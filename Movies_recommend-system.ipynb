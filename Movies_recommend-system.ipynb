{
 "cells": [
  {
   "cell_type": "code",
   "execution_count": 1,
   "id": "96ef466a-9e17-4043-8657-ccd81f9c1317",
   "metadata": {},
   "outputs": [],
   "source": [
    "import numpy as np\n"
   ]
  },
  {
   "cell_type": "code",
   "execution_count": null,
   "id": "b7729e73-2ba5-4f1f-b41f-5f2c87350295",
   "metadata": {},
   "outputs": [],
   "source": [
    "import panda as pd\n"
   ]
  },
  {
   "cell_type": "code",
   "execution_count": null,
   "id": "476872f0-7966-440e-9a12-e847e70ab1d5",
   "metadata": {},
   "outputs": [],
   "source": []
  },
  {
   "cell_type": "code",
   "execution_count": 3,
   "id": "ce766aec-8fc4-406a-b036-eead07ad7759",
   "metadata": {},
   "outputs": [],
   "source": [
    "import os\n",
    "for dirname, _, filenames in os.walk('/kaggle/input'):\n",
    "    for filename in filenames:\n",
    "        print(os.path.join(dirname, filename))\n"
   ]
  },
  {
   "cell_type": "code",
   "execution_count": null,
   "id": "1b6ed6fa-48dc-499b-9b82-199bdb537265",
   "metadata": {},
   "outputs": [],
   "source": [
    "movies = pd.read_csv(r'C:\\Users\\sonuk\\Desktop\\tmdb_5000_movies.csv')\n",
    "credits = pd.read_csv(r'C:\\Users\\sonuk\\Desktop\\tmdb_5000_credits.csv') "
   ]
  },
  {
   "cell_type": "code",
   "execution_count": null,
   "id": "aca166c1-613f-4009-964d-dfa97e6f64b2",
   "metadata": {},
   "outputs": [],
   "source": [
    "movies.head()"
   ]
  },
  {
   "cell_type": "code",
   "execution_count": null,
   "id": "ba516d95-536a-44b0-a2c9-7a6fef30807a",
   "metadata": {},
   "outputs": [],
   "source": [
    "movies.shape"
   ]
  },
  {
   "cell_type": "code",
   "execution_count": null,
   "id": "6eae8802-3448-4ab2-8fce-6b3ff0afd7e9",
   "metadata": {},
   "outputs": [],
   "source": [
    "credits.head()"
   ]
  },
  {
   "cell_type": "code",
   "execution_count": null,
   "id": "b496aa1f-e1f9-4774-87c6-b405809a8730",
   "metadata": {},
   "outputs": [],
   "source": [
    "movies.head()\n",
    "# budget\n",
    "# homepage\n",
    "# id\n",
    "# original_language\n",
    "# original_title\n",
    "# popularity\n",
    "# production_comapny\n",
    "# production_countries\n",
    "# release-date(not sure)"
   ]
  },
  {
   "cell_type": "code",
   "execution_count": null,
   "id": "32823ec2-9039-4fe6-a1c4-064ed92796a8",
   "metadata": {},
   "outputs": [],
   "source": [
    "movies.head()\n"
   ]
  },
  {
   "cell_type": "code",
   "execution_count": null,
   "id": "3a1f9962-f6f4-4753-96be-378443c3fee5",
   "metadata": {},
   "outputs": [],
   "source": [
    "print(\"Movies columns:\", movies.columns)\n",
    "print(\"Credits columns:\", credits.columns)\n"
   ]
  },
  {
   "cell_type": "code",
   "execution_count": null,
   "id": "d9f34049-0dc2-45ff-bfb8-889e672b8621",
   "metadata": {},
   "outputs": [],
   "source": [
    "\n",
    "movies = movies.merge(\n",
    "    credits,\n",
    "    left_on='id',\n",
    "    right_on='movie_id',\n",
    "    suffixes=('_movie', '_credit')\n",
    ")\n"
   ]
  },
  {
   "cell_type": "code",
   "execution_count": null,
   "id": "561f0aad-a86c-4ed9-875b-5095611dc79e",
   "metadata": {},
   "outputs": [],
   "source": [
    "print(movies.columns)\n"
   ]
  },
  {
   "cell_type": "code",
   "execution_count": null,
   "id": "9c37e2a8-4d20-425e-9a87-79c35d45125d",
   "metadata": {},
   "outputs": [],
   "source": [
    "movies_clean = movies[['id', 'title', 'overview', 'genres', 'keywords', 'cast_credit', 'crew_credit']]\n"
   ]
  },
  {
   "cell_type": "code",
   "execution_count": null,
   "id": "bfcca4bb-5e83-450d-b7e3-df125a88fa2e",
   "metadata": {},
   "outputs": [],
   "source": [
    "# sirf required columns select karo\n",
    "movies = movies[['id', 'title', 'overview', 'genres', 'keywords', 'cast_credit', 'crew_credit']]\n",
    "\n",
    "# columns rename kar do (optional)\n",
    "movies.rename(columns={'cast_credit':'cast', 'crew_credit':'crew'}, inplace=True)\n"
   ]
  },
  {
   "cell_type": "code",
   "execution_count": null,
   "id": "d54ec9de-8945-4f43-8faf-9700f98c723c",
   "metadata": {},
   "outputs": [],
   "source": [
    "movies.head()"
   ]
  },
  {
   "cell_type": "code",
   "execution_count": null,
   "id": "1fed57da-af29-4062-82e0-d6117e519e74",
   "metadata": {},
   "outputs": [],
   "source": [
    "import ast"
   ]
  },
  {
   "cell_type": "code",
   "execution_count": null,
   "id": "4d311a91-c253-4385-811c-36ebbf330a39",
   "metadata": {},
   "outputs": [],
   "source": [
    "def convert(text):\n",
    "    L = []\n",
    "    for i in ast.literal_eval(text):\n",
    "        L.append(i['name']) \n",
    "    return L "
   ]
  },
  {
   "cell_type": "code",
   "execution_count": null,
   "id": "610a4cc8-53d9-47fa-b63e-3cef4ad3a65b",
   "metadata": {},
   "outputs": [],
   "source": [
    "movies.dropna(inplace=True)"
   ]
  },
  {
   "cell_type": "code",
   "execution_count": null,
   "id": "f4ef9a41-8a70-4a6e-94e8-039e2a0f1e04",
   "metadata": {},
   "outputs": [],
   "source": [
    "movies['genres'] = movies['genres'].apply(convert)\n",
    "movies.head()"
   ]
  },
  {
   "cell_type": "code",
   "execution_count": null,
   "id": "7829fc46-9a7a-4188-9c5b-2150c9d2864d",
   "metadata": {},
   "outputs": [],
   "source": [
    "movies['keywords'] = movies['keywords'].apply(convert)\n",
    "movies.head()"
   ]
  },
  {
   "cell_type": "code",
   "execution_count": null,
   "id": "182eee62-6eea-4adc-bde4-714f540c212f",
   "metadata": {},
   "outputs": [],
   "source": [
    "import ast\n",
    "ast.literal_eval('[{\"id\": 28, \"name\": \"Action\"}, {\"id\": 12, \"name\": \"Adventure\"}, {\"id\": 14, \"name\": \"Fantasy\"}, {\"id\": 878, \"name\": \"Science Fiction\"}]')"
   ]
  },
  {
   "cell_type": "code",
   "execution_count": null,
   "id": "4b3bc3c2-1cc9-49aa-b8ec-97dcfa89ce58",
   "metadata": {},
   "outputs": [],
   "source": [
    "def convert3(text):\n",
    "    L = []\n",
    "    counter = 0\n",
    "    for i in ast.literal_eval(text):\n",
    "        if counter < 3:\n",
    "            L.append(i['name'])\n",
    "        counter+=1\n",
    "    return L "
   ]
  },
  {
   "cell_type": "code",
   "execution_count": null,
   "id": "6ed7bb8e-e861-4493-a253-e01e1f488193",
   "metadata": {},
   "outputs": [],
   "source": [
    "movies['cast'] = movies['cast'].apply(convert)\n",
    "movies.head()"
   ]
  },
  {
   "cell_type": "code",
   "execution_count": null,
   "id": "f1361d07-8518-485b-9270-2ce8aacf663a",
   "metadata": {},
   "outputs": [],
   "source": [
    "movies['cast'] = movies['cast'].apply(lambda x:x[0:3])"
   ]
  },
  {
   "cell_type": "code",
   "execution_count": null,
   "id": "4e60afd4-3889-4e66-91c4-11d5d0fa4b59",
   "metadata": {},
   "outputs": [],
   "source": [
    "def fetch_director(text):\n",
    "    L = []\n",
    "    for i in ast.literal_eval(text):\n",
    "        if i['job'] == 'Director':\n",
    "            L.append(i['name'])\n",
    "    return L "
   ]
  },
  {
   "cell_type": "code",
   "execution_count": null,
   "id": "fb37115f-e6c2-4123-a28b-6b71e2d2ba22",
   "metadata": {},
   "outputs": [],
   "source": [
    "movies['crew'] = movies['crew'].apply(fetch_director)\n"
   ]
  },
  {
   "cell_type": "code",
   "execution_count": null,
   "id": "8466b9df-3acd-4522-990e-9ab18f82dabf",
   "metadata": {},
   "outputs": [],
   "source": [
    "movies.sample(5)"
   ]
  },
  {
   "cell_type": "code",
   "execution_count": null,
   "id": "a97649cb-7ab8-4aa9-ab19-5226e99910b0",
   "metadata": {},
   "outputs": [],
   "source": [
    "def collapse(L):\n",
    "    L1 = []\n",
    "    for i in L:\n",
    "        L1.append(i.replace(\" \",\"\"))\n",
    "    return L1"
   ]
  },
  {
   "cell_type": "code",
   "execution_count": null,
   "id": "13a33102-bbf8-4504-b8c2-59977ec7e65a",
   "metadata": {},
   "outputs": [],
   "source": [
    "movies['cast'] = movies['cast'].apply(collapse)\n",
    "movies['crew'] = movies['crew'].apply(collapse)\n",
    "movies['genres'] = movies['genres'].apply(collapse)\n",
    "movies['keywords'] = movies['keywords'].apply(collapse)"
   ]
  },
  {
   "cell_type": "code",
   "execution_count": null,
   "id": "ed02147a-2447-4199-ba21-800ac60964da",
   "metadata": {},
   "outputs": [],
   "source": [
    "movies.head()"
   ]
  },
  {
   "cell_type": "code",
   "execution_count": null,
   "id": "94971955-1848-457a-8f5e-79661c05ae33",
   "metadata": {},
   "outputs": [],
   "source": [
    "movies['overview'] = movies['overview'].apply(lambda x:x.split())"
   ]
  },
  {
   "cell_type": "code",
   "execution_count": null,
   "id": "4367bd82-3227-4758-b111-c4ad0236be12",
   "metadata": {},
   "outputs": [],
   "source": [
    "movies['tags'] = movies['overview'] + movies['genres'] + movies['keywords'] + movies['cast'] + movies['crew']"
   ]
  },
  {
   "cell_type": "code",
   "execution_count": null,
   "id": "5bdf8eaa-56ed-4a62-9fbe-4be0b730702d",
   "metadata": {},
   "outputs": [],
   "source": [
    "new = movies.drop(columns=['overview','genres','keywords','cast','crew'])\n",
    "#new.head()"
   ]
  },
  {
   "cell_type": "code",
   "execution_count": null,
   "id": "fefb50b4-c58d-4fd5-8023-eb49081d82ec",
   "metadata": {},
   "outputs": [],
   "source": [
    "new['tags'] = new['tags'].apply(lambda x: \" \".join(x))\n",
    "new.head()"
   ]
  },
  {
   "cell_type": "code",
   "execution_count": null,
   "id": "97d09303-4354-46a3-91d3-8ae82c2189c4",
   "metadata": {},
   "outputs": [],
   "source": [
    "from sklearn.feature_extraction.text import CountVectorizer\n",
    "cv = CountVectorizer(max_features=5000,stop_words='english')\n",
    "    "
   ]
  },
  {
   "cell_type": "code",
   "execution_count": null,
   "id": "5dd909f0-0ec9-4ab4-af99-6000ede04b49",
   "metadata": {},
   "outputs": [],
   "source": [
    "vector = cv.fit_transform(new['tags']).toarray()"
   ]
  },
  {
   "cell_type": "code",
   "execution_count": null,
   "id": "a332f233-d266-48df-9184-e7beb278d6df",
   "metadata": {},
   "outputs": [],
   "source": [
    "vector.shape"
   ]
  },
  {
   "cell_type": "code",
   "execution_count": null,
   "id": "979f6366-ee4f-40b7-a7bc-1e529a424d4e",
   "metadata": {},
   "outputs": [],
   "source": [
    "from sklearn.metrics.pairwise import cosine_similarity"
   ]
  },
  {
   "cell_type": "code",
   "execution_count": null,
   "id": "c7e8addc-70c9-4cb0-8f34-abbf6ae05da1",
   "metadata": {},
   "outputs": [],
   "source": [
    "similarity = cosine_similarity(vector)"
   ]
  },
  {
   "cell_type": "code",
   "execution_count": null,
   "id": "9090f0cc-9376-4f92-9994-c136b75183f3",
   "metadata": {},
   "outputs": [],
   "source": [
    "similarity"
   ]
  },
  {
   "cell_type": "code",
   "execution_count": null,
   "id": "8a2a921f-7d36-4bf2-9ecd-1ea64e8e8ce9",
   "metadata": {},
   "outputs": [],
   "source": [
    "new[new['title'] == 'The Lego Movie'].index[0]\n"
   ]
  },
  {
   "cell_type": "code",
   "execution_count": null,
   "id": "cae1c09b-070c-4710-8e83-1b49ef21d810",
   "metadata": {},
   "outputs": [],
   "source": [
    "def recommend(movie):\n",
    "    index = new[new['title'] == movie].index[0]\n",
    "    distances = sorted(list(enumerate(similarity[index])),reverse=True,key = lambda x: x[1])\n",
    "    for i in distances[1:6]:\n",
    "        print(new.iloc[i[0]].title)\n",
    "        \n",
    "    "
   ]
  },
  {
   "cell_type": "code",
   "execution_count": null,
   "id": "ac83ec68-cf40-40c8-a919-c6bf253e2eb1",
   "metadata": {},
   "outputs": [],
   "source": [
    "recommend('Gandhi')"
   ]
  },
  {
   "cell_type": "code",
   "execution_count": null,
   "id": "88322212-9a53-40ee-9e64-606f7fd8c86f",
   "metadata": {},
   "outputs": [],
   "source": [
    "import pickle"
   ]
  },
  {
   "cell_type": "code",
   "execution_count": null,
   "id": "2f87aa0f-a54e-41c8-9594-2cd0c470d9c6",
   "metadata": {},
   "outputs": [],
   "source": [
    "pickle.dump(new,open('movie_list.pkl','wb'))\n",
    "pickle.dump(similarity,open('similarity.pkl','wb'))"
   ]
  },
  {
   "cell_type": "code",
   "execution_count": null,
   "id": "226ecd81-8dc1-4dfa-b26c-2edcaab6a8b3",
   "metadata": {},
   "outputs": [],
   "source": []
  },
  {
   "cell_type": "code",
   "execution_count": null,
   "id": "583531ee-40bd-4b65-b843-e9d655e2e33a",
   "metadata": {},
   "outputs": [],
   "source": [
    "import os\n",
    "print(os.getcwd())\n"
   ]
  },
  {
   "cell_type": "code",
   "execution_count": null,
   "id": "60d82cd0-c742-48dd-b3f6-5dc80adb9dda",
   "metadata": {},
   "outputs": [],
   "source": []
  },
  {
   "cell_type": "code",
   "execution_count": null,
   "id": "2d862904-a7dc-4910-93cc-1744936857fc",
   "metadata": {},
   "outputs": [],
   "source": [
    "import pickle\n",
    "import os\n",
    "\n",
    "# Check path\n",
    "print(os.getcwd())  # Tumhare case me ye C:\\Users\\sonuk\\PycharmProjects\\movie-recommender-system hona chahiye\n",
    "\n",
    "# Load files\n",
    "movies_path = 'model/movie_list.pkl'\n",
    "similarity_path = 'model/similarity.pkl'\n",
    "\n",
    "if os.path.exists(movies_path) and os.path.exists(similarity_path):\n",
    "    movies = pickle.load(open(movies_path,'rb'))\n",
    "    similarity = pickle.load(open(similarity_path,'rb'))\n",
    "    print(\"Pickle files loaded successfully!\")\n",
    "    print(movies.columns)  # columns check karo\n",
    "else:\n",
    "    print(\"Pickle files missing!\")\n"
   ]
  },
  {
   "cell_type": "code",
   "execution_count": null,
   "id": "56c0ae31-52ec-4209-a2d2-849fe35ddf1e",
   "metadata": {},
   "outputs": [],
   "source": [
    "print(movies.columns)\n"
   ]
  },
  {
   "cell_type": "code",
   "execution_count": null,
   "id": "d83fe42f-59a5-42e5-8f1c-e5db37e508ca",
   "metadata": {},
   "outputs": [],
   "source": [
    "print(movies.columns)\n",
    "\n"
   ]
  },
  {
   "cell_type": "code",
   "execution_count": null,
   "id": "fdf35658-9d16-430a-ad53-4fd1dd51e44f",
   "metadata": {},
   "outputs": [],
   "source": [
    "movies = movies[['id', 'title_x', 'overview', 'genres', 'keywords', 'cast', 'crew']]\n",
    "movies = movies.rename(columns={'title_x':'title'})\n"
   ]
  },
  {
   "cell_type": "code",
   "execution_count": null,
   "id": "72e67932-9f88-4d45-a033-26950258a2fe",
   "metadata": {},
   "outputs": [],
   "source": [
    "movies.to_pickle(\"model/movie_list.pkl\")\n"
   ]
  },
  {
   "cell_type": "code",
   "execution_count": null,
   "id": "c9a8a8df-e8c7-4a7f-b742-aedee87d7109",
   "metadata": {},
   "outputs": [],
   "source": [
    "import os\n",
    "\n",
    "# Agar model folder exist nahi karta, to create karo\n",
    "if not os.path.exists('model'):\n",
    "    os.makedirs('model')\n"
   ]
  },
  {
   "cell_type": "code",
   "execution_count": null,
   "id": "5abcbd9e-f15c-453b-8b3d-1b4a3a6ea1d4",
   "metadata": {},
   "outputs": [],
   "source": [
    "movies.to_pickle(\"model/movie_list.pkl\")\n"
   ]
  },
  {
   "cell_type": "code",
   "execution_count": null,
   "id": "c10b9df4-b8ae-4b91-a630-9a04f738e9be",
   "metadata": {},
   "outputs": [],
   "source": [
    "import os\n",
    "import pandas as pd\n",
    "import pickle\n",
    "\n",
    "# Ensure model folder exists\n",
    "if not os.path.exists('model'):\n",
    "    os.makedirs('model')\n",
    "\n",
    "# CSV load\n",
    "movies = pd.read_csv(r\"C:\\Users\\sonuk\\Desktop\\tmdb_5000_movies.csv\")\n",
    "credits = pd.read_csv(r\"C:\\Users\\sonuk\\Desktop\\tmdb_5000_credits.csv\")\n",
    "\n",
    "# Merge\n",
    "movies = movies.merge(credits, left_on='id', right_on='movie_id')\n",
    "\n",
    "# Select required columns & rename\n",
    "movies = movies[['id', 'title_x', 'overview', 'genres', 'keywords', 'cast', 'crew']]\n",
    "movies = movies.rename(columns={'title_x':'title'})\n",
    "\n",
    "# Save movie_list.pkl\n",
    "movies.to_pickle(\"model/movie_list.pkl\")\n",
    "\n",
    "# Create dummy similarity matrix for now\n",
    "import numpy as np\n",
    "similarity = np.identity(len(movies))  # real similarity calculate karna baad me\n",
    "pickle.dump(similarity, open(\"model/similarity.pkl\", \"wb\"))\n",
    "\n",
    "print(\"Pickle files saved successfully!\")\n"
   ]
  },
  {
   "cell_type": "code",
   "execution_count": null,
   "id": "65dd3011-7016-4cc5-b01c-7bd0cd5d1173",
   "metadata": {},
   "outputs": [],
   "source": [
    "import streamlit as st\n",
    "import pickle\n",
    "import requests\n",
    "\n",
    "# Load pickle\n",
    "movies = pickle.load(open('model/movie_list.pkl','rb'))\n",
    "similarity = pickle.load(open('model/similarity.pkl','rb'))\n",
    "\n",
    "# Function to fetch poster from TMDB\n",
    "def fetch_poster(movie_id):\n",
    "    api_key = \"8265bd1679663a7ea12ac168da84d2e8\"  # apni TMDB API key\n",
    "    url = f\"https://api.themoviedb.org/3/movie/{movie_id}?api_key={api_key}&language=en-US\"\n",
    "    data = requests.get(url).json()\n",
    "    poster_path = data.get('poster_path')\n",
    "    if poster_path:\n",
    "        return \"https://image.tmdb.org/t/p/w500\" + poster_path\n",
    "    else:\n",
    "        return \"https://via.placeholder.com/500x750?text=No+Image\"\n",
    "\n",
    "# Recommendation function\n",
    "def recommend(movie):\n",
    "    index = movies[movies['title'] == movie].index[0]\n",
    "    distances = sorted(list(enumerate(similarity[index])), reverse=True, key=lambda x: x[1])\n",
    "    recommended_movie_names = []\n",
    "    recommended_movie_posters = []\n",
    "    for i in distances[1:6]:\n",
    "        movie_id = movies.iloc[i[0]].id\n",
    "        recommended_movie_names.append(movies.iloc[i[0]].title)\n",
    "        recommended_movie_posters.append(fetch_poster(movie_id))\n",
    "    return recommended_movie_names, recommended_movie_posters\n",
    "\n",
    "# Streamlit UI\n",
    "st.header(\"Movie Recommender System\")\n",
    "\n",
    "movie_list = movies['title'].values\n",
    "selected_movie = st.selectbox(\"Type or select a movie\", movie_list)\n",
    "\n",
    "if st.button('Show Recommendation'):\n",
    "    names, posters = recommend(selected_movie)\n",
    "    col1, col2, col3, col4, col5 = st.columns(5)\n",
    "    for i, col in enumerate([col1, col2, col3, col4, col5]):\n",
    "        col.text(names[i])\n",
    "        col.image(posters[i])\n"
   ]
  },
  {
   "cell_type": "code",
   "execution_count": null,
   "id": "1378ba0f-16e3-49f5-be20-d6ef044b3c35",
   "metadata": {},
   "outputs": [],
   "source": [
    "pip install streamlit\n"
   ]
  },
  {
   "cell_type": "code",
   "execution_count": null,
   "id": "e85ea20b-053b-47e4-8d69-7c5dd8ab8263",
   "metadata": {},
   "outputs": [],
   "source": [
    "!streamlit --version\n"
   ]
  },
  {
   "cell_type": "code",
   "execution_count": null,
   "id": "96d7c7ab-da2c-4a6b-b798-88baafb63cf1",
   "metadata": {},
   "outputs": [],
   "source": []
  },
  {
   "cell_type": "code",
   "execution_count": null,
   "id": "a9487fd5-8f9a-4f17-a012-df78e3a0e4e6",
   "metadata": {},
   "outputs": [],
   "source": [
    "st.write(selected_movie)\n",
    "index = movies[movies[title_col] == selected_movie].index[0]\n",
    "st.write(\"Index:\", index)\n",
    "st.write(\"Distances:\", sorted(list(enumerate(similarity[index])), reverse=True, key=lambda x: x[1]))\n"
   ]
  },
  {
   "cell_type": "code",
   "execution_count": null,
   "id": "47608d0e-fdf3-4eb8-8c67-c3a157139bca",
   "metadata": {},
   "outputs": [],
   "source": [
    "import pickle\n",
    "\n",
    "# Just check if files exist and can be loaded\n",
    "try:\n",
    "    with open('model/movie_list.pkl', 'rb') as f:\n",
    "        movies = pickle.load(f)\n",
    "        print(\"Movies file loaded!\")\n",
    "        print(f\"Type: {type(movies)}\")\n",
    "        if hasattr(movies, 'columns'):\n",
    "            print(f\"Columns: {movies.columns.tolist()}\")\n",
    "            \n",
    "    with open('model/similarity.pkl', 'rb') as f:\n",
    "        similarity = pickle.load(f)\n",
    "        print(\"Similarity file loaded!\")\n",
    "        print(f\"Type: {type(similarity)}\")\n",
    "        print(f\"Shape: {len(similarity)} if list, or proper shape if numpy array\")\n",
    "        \n",
    "except Exception as e:\n",
    "    print(f\"Error: {e}\")\n"
   ]
  },
  {
   "cell_type": "code",
   "execution_count": null,
   "id": "fc72d129-9ef5-47fb-9df2-9464a388510c",
   "metadata": {},
   "outputs": [],
   "source": [
    "import pandas as pd\n",
    "import numpy as np\n",
    "import pickle\n",
    "import ast\n",
    "from sklearn.feature_extraction.text import CountVectorizer\n",
    "from sklearn.metrics.pairwise import cosine_similarity\n",
    "import os\n",
    "\n",
    "# CSV load\n",
    "movies = pd.read_csv(r\"C:\\\\Users\\\\sonuk\\\\Desktop\\\\tmdb_5000_movies.csv\")\n",
    "credits = pd.read_csv(r\"C:\\\\Users\\\\sonuk\\\\Desktop\\\\tmdb_5000_credits.csv\")\n",
    "\n",
    "# Merge datasets\n",
    "movies = movies.merge(credits, left_on='id', right_on='movie_id')\n",
    "\n",
    "# Select required columns\n",
    "movies = movies[['id', 'title_x', 'overview', 'genres', 'keywords', 'cast', 'crew']]\n",
    "movies = movies.rename(columns={'title_x': 'title'})\n",
    "\n",
    "# Drop NaN values\n",
    "movies.dropna(inplace=True)\n",
    "\n",
    "# Preprocessing functions\n",
    "def convert(text):\n",
    "    L = []\n",
    "    for i in ast.literal_eval(text):\n",
    "        L.append(i['name']) \n",
    "    return L\n",
    "\n",
    "def convert3(text):\n",
    "    L = []\n",
    "    counter = 0\n",
    "    for i in ast.literal_eval(text):\n",
    "        if counter < 3:\n",
    "            L.append(i['name'])\n",
    "        counter += 1\n",
    "    return L\n",
    "\n",
    "def fetch_director(text):\n",
    "    L = []\n",
    "    for i in ast.literal_eval(text):\n",
    "        if i['job'] == 'Director':\n",
    "            L.append(i['name'])\n",
    "    return L\n",
    "\n",
    "def collapse(L):\n",
    "    L1 = []\n",
    "    for i in L:\n",
    "        L1.append(i.replace(\" \", \"\"))\n",
    "    return L1\n",
    "\n",
    "# Apply preprocessing\n",
    "movies['genres'] = movies['genres'].apply(convert)\n",
    "movies['keywords'] = movies['keywords'].apply(convert)\n",
    "movies['cast'] = movies['cast'].apply(convert3)  # Only top 3 cast members\n",
    "movies['crew'] = movies['crew'].apply(fetch_director)  # Only directors\n",
    "\n",
    "# Remove spaces\n",
    "movies['cast'] = movies['cast'].apply(collapse)\n",
    "movies['crew'] = movies['crew'].apply(collapse)\n",
    "movies['genres'] = movies['genres'].apply(collapse)\n",
    "movies['keywords'] = movies['keywords'].apply(collapse)\n",
    "\n",
    "# Create tags\n",
    "movies['overview'] = movies['overview'].apply(lambda x: x.split())\n",
    "movies['tags'] = movies['overview'] + movies['genres'] + movies['keywords'] + movies['cast'] + movies['crew']\n",
    "movies['tags'] = movies['tags'].apply(lambda x: \" \".join(x))\n",
    "\n",
    "# Create new dataframe with only necessary columns\n",
    "new_df = movies[['id', 'title', 'tags']]\n",
    "\n",
    "# Vectorization\n",
    "cv = CountVectorizer(max_features=5000, stop_words='english')\n",
    "vectors = cv.fit_transform(new_df['tags']).toarray()\n",
    "\n",
    "# Calculate REAL similarity matrix\n",
    "similarity = cosine_similarity(vectors)\n",
    "\n",
    "# Ensure model folder exists\n",
    "if not os.path.exists('model'):\n",
    "    os.makedirs('model')\n",
    "\n",
    "# Save files\n",
    "new_df.to_pickle(\"model/movie_list.pkl\")\n",
    "pickle.dump(similarity, open(\"model/similarity.pkl\", \"wb\"))\n",
    "\n",
    "print(\"Files created successfully!\")\n",
    "print(f\"Movies shape: {new_df.shape}\")\n",
    "print(f\"Similarity shape: {similarity.shape}\")"
   ]
  },
  {
   "cell_type": "code",
   "execution_count": null,
   "id": "6fa0ddc6-9b20-40a1-8544-9e5d223d9900",
   "metadata": {},
   "outputs": [],
   "source": []
  },
  {
   "cell_type": "code",
   "execution_count": null,
   "id": "0b1c5127-662b-4536-8c88-fc4edd2e8b09",
   "metadata": {},
   "outputs": [],
   "source": [
    "import pickle\n",
    "import os\n",
    "\n",
    "BASE_DIR = r\"C:\\Users\\sonuk\\PycharmProjects\\movie-recommender-system\"\n",
    "movies = pickle.load(open(os.path.join(BASE_DIR, 'model/movie_list.pkl'), 'rb'))\n",
    "similarity = pickle.load(open(os.path.join(BASE_DIR, 'model/similarity.pkl'), 'rb'))\n",
    "\n",
    "# Check head of movies\n",
    "print(movies.head())\n",
    "\n",
    "# Check similarity matrix shape\n",
    "print(len(similarity), len(similarity[0]))\n"
   ]
  },
  {
   "cell_type": "code",
   "execution_count": null,
   "id": "0184abc8-7be7-4a00-b702-106e04c11938",
   "metadata": {},
   "outputs": [],
   "source": [
    "import requests\n",
    "\n",
    "TMDB_API_KEY = \"8265bd1679663a7ea12ac168da84d2e8\"\n",
    "\n",
    "# Test first movie\n",
    "movie_name = movies['title'][0]  # Avatar\n",
    "index = movies[movies['title'] == movie_name].index[0]\n",
    "movie_id = movies.iloc[index]['id']\n",
    "\n",
    "print(\"Movie:\", movie_name)\n",
    "print(\"Movie ID:\", movie_id)\n",
    "\n",
    "# Fetch poster\n",
    "url = f\"https://api.themoviedb.org/3/movie/{movie_id}?api_key={TMDB_API_KEY}&language=en-US\"\n",
    "response = requests.get(url)\n",
    "print(\"Status code:\", response.status_code)\n",
    "print(response.json())  \n",
    "\n",
    "poster_path = response.json().get('poster_path')\n",
    "if poster_path:\n",
    "    poster_url = \"https://image.tmdb.org/t/p/w500/\" + poster_path\n",
    "else:\n",
    "    poster_url = \"https://via.placeholder.com/500x750?text=No+Image\"\n",
    "\n",
    "print(\"Poster URL:\", poster_url)\n"
   ]
  },
  {
   "cell_type": "code",
   "execution_count": null,
   "id": "a57a353b-d88b-44a9-8233-e97d929ec801",
   "metadata": {},
   "outputs": [],
   "source": [
    "import requests\n",
    "\n",
    "TMDB_API_KEY = \"8265bd1679663a7ea12ac168da84d2e8\"\n",
    "\n",
    "movie_id = 19995  # Avatar\n",
    "url = f\"https://api.themoviedb.org/3/movie/{movie_id}?api_key={TMDB_API_KEY}&language=en-US\"\n",
    "\n",
    "response = requests.get(url)\n",
    "print(\"Status code:\", response.status_code)\n",
    "data = response.json()\n",
    "print(data)  # TMDB API response check\n",
    "\n",
    "poster_path = data.get('poster_path')\n",
    "if poster_path:\n",
    "    poster_url = \"https://image.tmdb.org/t/p/w500/\" + poster_path\n",
    "else:\n",
    "    poster_url = \"https://via.placeholder.com/500x750?text=No+Image\"\n",
    "\n",
    "print(\"Poster URL:\", poster_url)\n"
   ]
  },
  {
   "cell_type": "code",
   "execution_count": null,
   "id": "1364a9dd-6963-47b5-8229-db5d4f2036c6",
   "metadata": {},
   "outputs": [],
   "source": []
  },
  {
   "cell_type": "code",
   "execution_count": null,
   "id": "171094b9-dc13-4983-be8b-9166b91db7bf",
   "metadata": {},
   "outputs": [],
   "source": []
  },
  {
   "cell_type": "code",
   "execution_count": null,
   "id": "fa2686aa-bf73-40f2-bba8-0d97dedf74a2",
   "metadata": {},
   "outputs": [],
   "source": []
  },
  {
   "cell_type": "code",
   "execution_count": null,
   "id": "3ec79949-d8e2-4158-b1ac-9f7fd2ac9459",
   "metadata": {},
   "outputs": [],
   "source": []
  },
  {
   "cell_type": "code",
   "execution_count": null,
   "id": "332502b5-42cf-4504-bdd3-138f92ead339",
   "metadata": {},
   "outputs": [],
   "source": []
  },
  {
   "cell_type": "code",
   "execution_count": null,
   "id": "4744843d-01b1-498a-8c1f-ca9ce7d92cfc",
   "metadata": {},
   "outputs": [],
   "source": []
  },
  {
   "cell_type": "code",
   "execution_count": null,
   "id": "06c7ac73-d39f-4187-a755-7a51db0d5c4c",
   "metadata": {},
   "outputs": [],
   "source": []
  },
  {
   "cell_type": "code",
   "execution_count": null,
   "id": "c19db20d-4a46-4e1e-913e-e4e2a53c4e18",
   "metadata": {},
   "outputs": [],
   "source": []
  },
  {
   "cell_type": "code",
   "execution_count": null,
   "id": "a8ecb080-4da5-41ae-8111-51a7d11e34a2",
   "metadata": {},
   "outputs": [],
   "source": []
  }
 ],
 "metadata": {
  "kernelspec": {
   "display_name": "Python 3 (ipykernel)",
   "language": "python",
   "name": "python3"
  },
  "language_info": {
   "codemirror_mode": {
    "name": "ipython",
    "version": 3
   },
   "file_extension": ".py",
   "mimetype": "text/x-python",
   "name": "python",
   "nbconvert_exporter": "python",
   "pygments_lexer": "ipython3",
   "version": "3.13.7"
  }
 },
 "nbformat": 4,
 "nbformat_minor": 5
}
